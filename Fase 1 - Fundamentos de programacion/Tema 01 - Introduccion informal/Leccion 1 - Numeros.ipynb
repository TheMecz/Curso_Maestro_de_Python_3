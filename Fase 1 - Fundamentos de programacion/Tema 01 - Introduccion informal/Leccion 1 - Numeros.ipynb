{
 "cells": [
  {
   "source": [
    "# Esto es un título en Markdown  \n",
    "## Esto es un subtítulo en Markdown  \n",
    "Esto es un texto para un párafo en Markdown  \n",
    "*Esto es un texto en cursiva*  \n",
    "**Esto es un texto en negrita**\n"
   ],
   "cell_type": "markdown",
   "metadata": {}
  },
  {
   "cell_type": "code",
   "execution_count": 2,
   "metadata": {},
   "outputs": [
    {
     "output_type": "stream",
     "name": "stdout",
     "text": [
      "Hola mundo\n"
     ]
    }
   ],
   "source": [
    "print(\"Hola mundo\")"
   ]
  },
  {
   "cell_type": "code",
   "execution_count": 3,
   "metadata": {},
   "outputs": [
    {
     "output_type": "stream",
     "name": "stdout",
     "text": [
      "Print: es una instrucción que muestra texto por pantalla.\n"
     ]
    }
   ],
   "source": [
    "print(\"Print: es una instrucción que muestra texto por pantalla.\""
   ]
  },
  {
   "cell_type": "code",
   "execution_count": null,
   "metadata": {},
   "outputs": [],
   "source": []
  },
  {
   "cell_type": "code",
   "execution_count": null,
   "metadata": {},
   "outputs": [],
   "source": []
  }
 ],
 "metadata": {
  "anaconda-cloud": {},
  "kernelspec": {
   "name": "python394jvsc74a57bd06d90c337e9f2db91fe7cf84780d0c362fe1853f02eb73d7a73b3447f64712c7a",
   "display_name": "Python 3.9.4 64-bit"
  },
  "language_info": {
   "codemirror_mode": {
    "name": "ipython",
    "version": 3
   },
   "file_extension": ".py",
   "mimetype": "text/x-python",
   "name": "python",
   "nbconvert_exporter": "python",
   "pygments_lexer": "ipython3",
   "version": "3.9.4"
  },
  "metadata": {
   "interpreter": {
    "hash": "6d90c337e9f2db91fe7cf84780d0c362fe1853f02eb73d7a73b3447f64712c7a"
   }
  }
 },
 "nbformat": 4,
 "nbformat_minor": 1
}