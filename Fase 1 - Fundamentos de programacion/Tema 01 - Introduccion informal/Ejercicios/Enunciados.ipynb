{
 "cells": [
  {
   "cell_type": "markdown",
   "metadata": {},
   "source": [
    "# Tema 01: Introducción informal (Enunciados)\n",
    "*Nota: Estos ejercicios son optativos para hacer al final de la unidad y están pensados para apoyar tu aprendizaje*."
   ]
  },
  {
   "source": [
    "**1) Identifica el tipo de dato (int, float, string o list) de los siguientes valores literales**\n",
    "```python\n",
    "\"Hola Mundo\"       -> string\n",
    "[1, 10, 100]       -> cadena\n",
    "-25                -> int\n",
    "1.167              -> float\n",
    "[\"Hola\", \"Mundo\"]  -> list\n",
    "' '                -> char\n",
    "```"
   ],
   "cell_type": "markdown",
   "metadata": {}
  },
  {
   "cell_type": "markdown",
   "metadata": {},
   "source": [
    "**2) Determina mentalmente (sin programar) el resultado que aparecerá por pantalla a partir de las siguientes variables:**\n",
    "```python\n",
    "a = 10\n",
    "b = -5\n",
    "c = \"Hola \"\n",
    "d = [1, 2, 3]\n",
    "```\n",
    "```python\n",
    "print(a * 5)        -> 50\n",
    "print(a - b)        -> 15\n",
    "print(c + \"Mundo\")  -> \"Hola Mundo\"\n",
    "print(c * 2)        -> \"Hola Hola \"\n",
    "print(c[-1])        -> \" \"\n",
    "print(c[1:])        -> \"ola \"\n",
    "print(d + d)        -> [1, 2, 3, 1, 2, 3]\n",
    "```"
   ]
  },
  {
   "cell_type": "markdown",
   "metadata": {},
   "source": [
    "**3) El siguiente código pretende realizar una media entre 3 números, pero no funciona correctamente. ¿Eres capaz de identificar el problema y solucionarlo?**"
   ]
  },
  {
   "cell_type": "code",
   "execution_count": 1,
   "metadata": {
    "collapsed": false
   },
   "outputs": [
    {
     "output_type": "stream",
     "name": "stdout",
     "text": [
      "La nota media es 6.0\n"
     ]
    }
   ],
   "source": [
    "numero_1 = 9\n",
    "numero_2 = 3\n",
    "numero_3 = 6\n",
    "\n",
    "media = (numero_1 + numero_2 + numero_3) / 3\n",
    "print(\"La nota media es\", media)"
   ]
  },
  {
   "cell_type": "markdown",
   "metadata": {},
   "source": [
    "**4) A partir del ejercicio anterior, vamos a suponer que cada número es una nota, y lo que queremos es obtener la nota media. El problema es que cada nota tiene un valor porcentual: **\n",
    "\n",
    "* La primera nota vale un 15% del total\n",
    "* La segunda nota vale un 35% del total\n",
    "* La tercera nota vale un 50% del total\n",
    "\n",
    "**Desarrolla un programa para calcular perfectamente la nota final.**"
   ]
  },
  {
   "cell_type": "code",
   "execution_count": 3,
   "metadata": {
    "collapsed": false
   },
   "outputs": [
    {
     "output_type": "stream",
     "name": "stdout",
     "text": [
      "La nota final es: 5.949999999999999\n"
     ]
    }
   ],
   "source": [
    "nota_1 = 10\n",
    "nota_2 = 7\n",
    "nota_3 = 4\n",
    "\n",
    "# Completa el ejercicio aquí\n",
    "nota_final = 0.15*nota_1 + 0.35*nota_2 + 0.5*nota_3\n",
    "print(\"La nota final es: \" + str(nota_final))"
   ]
  },
  {
   "cell_type": "markdown",
   "metadata": {},
   "source": [
    "**5) La siguiente matriz (o lista con listas anidadas) debe cumplir una condición, y es que en cada fila, el cuarto elemento siempre debe ser el resultado de sumar los tres primeros. ¿Eres capaz de modificar las sumas incorrectas utilizando la técnica del slicing?**\n",
    "\n",
    "*Ayuda: La función llamada sum(lista) devuelve una suma de todos los elementos de la lista ¡Pruébalo!*"
   ]
  },
  {
   "cell_type": "code",
   "execution_count": 11,
   "metadata": {
    "collapsed": false
   },
   "outputs": [
    {
     "output_type": "execute_result",
     "data": {
      "text/plain": [
       "[[1, 1, 1, 6], [2, 2, 2, 6], [3, 3, 3, 9], [4, 4, 4, 12]]"
      ]
     },
     "metadata": {},
     "execution_count": 11
    }
   ],
   "source": [
    "matriz = [ \n",
    "    [1, 1, 1, 3], \n",
    "    [2, 2, 2, 7],\n",
    "    [3, 3, 3, 9],\n",
    "    [4, 4, 4, 13]\n",
    "]\n",
    "\n",
    "# Completa el ejercicio aquí\n",
    "matriz = [\n",
    "    [1, 1, 1, sum(matriz[1][:3])],\n",
    "    [2, 2, 2, sum(matriz[1][:3])],\n",
    "    [3, 3, 3, sum(matriz[2][:3])],\n",
    "    [4, 4, 4, sum(matriz[3][:3])]\n",
    "]\n",
    "matriz"
   ]
  },
  {
   "cell_type": "markdown",
   "metadata": {},
   "source": [
    "**6) Al realizar una consulta en un registro hemos obtenido una cadena de texto corrupta al revés. Al parecer contiene el nombre de un alumno y la nota de un exámen. ¿Cómo podríamos formatear la cadena y conseguir una estructura como la siguiente?:**\n",
    "\n",
    "* ***Nombre*** ***Apellido*** ha sacado un ***Nota*** de nota.\n",
    "\n",
    "*Ayuda: Para voltear una cadena rápidamente utilizando slicing podemos utilizar un tercer índice -1: **cadena[::-1]** *"
   ]
  },
  {
   "cell_type": "code",
   "execution_count": 15,
   "metadata": {
    "collapsed": false
   },
   "outputs": [
    {
     "output_type": "stream",
     "name": "stdout",
     "text": [
      "Juan Pérez ha sacado un 10 de nota\n"
     ]
    }
   ],
   "source": [
    "cadena = \"zeréP nauJ,01\"\n",
    "\n",
    "# Completa el ejercicio aquí\n",
    "cadena_2 = cadena[::-1]\n",
    "print(cadena_2[3:] + \" ha sacado un \" + cadena_2[:2] + \" de nota\")"
   ]
  }
 ],
 "metadata": {
  "anaconda-cloud": {},
  "kernelspec": {
   "name": "python394jvsc74a57bd06d90c337e9f2db91fe7cf84780d0c362fe1853f02eb73d7a73b3447f64712c7a",
   "display_name": "Python 3.9.4 64-bit"
  },
  "language_info": {
   "codemirror_mode": {
    "name": "ipython",
    "version": 3
   },
   "file_extension": ".py",
   "mimetype": "text/x-python",
   "name": "python",
   "nbconvert_exporter": "python",
   "pygments_lexer": "ipython3",
   "version": "3.9.4"
  },
  "metadata": {
   "interpreter": {
    "hash": "6d90c337e9f2db91fe7cf84780d0c362fe1853f02eb73d7a73b3447f64712c7a"
   }
  }
 },
 "nbformat": 4,
 "nbformat_minor": 0
}